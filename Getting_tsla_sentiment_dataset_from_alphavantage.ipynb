{
 "cells": [
  {
   "cell_type": "code",
   "execution_count": 1,
   "id": "5b152b51-6fef-4fcd-85f9-d5a691e77c72",
   "metadata": {},
   "outputs": [
    {
     "data": {
      "text/html": [
       "\n",
       "<style>\n",
       ".container { width:100% !important; }\n",
       "</style>\n"
      ],
      "text/plain": [
       "<IPython.core.display.HTML object>"
      ]
     },
     "execution_count": 1,
     "metadata": {},
     "output_type": "execute_result"
    }
   ],
   "source": [
    "from IPython.core.display import HTML\n",
    "import requests\n",
    "import time\n",
    "import pandas as pd\n",
    "import datetime\n",
    "HTML(\"\"\"\n",
    "<style>\n",
    ".container { width:100% !important; }\n",
    "</style>\n",
    "\"\"\")"
   ]
  },
  {
   "cell_type": "markdown",
   "id": "94084960-e3aa-4d78-844a-fe596e61113e",
   "metadata": {},
   "source": [
    "### Go here to get API KEY\n",
    "* https://www.alphavantage.co/support/#api-key"
   ]
  },
  {
   "cell_type": "code",
   "execution_count": 3,
   "id": "dd9ff183-718a-4cef-a10c-4c13fb13a704",
   "metadata": {},
   "outputs": [],
   "source": [
    "api_key = \"2HJMUVOPKGO59FTA\""
   ]
  },
  {
   "cell_type": "markdown",
   "id": "327e32ca-5ee4-4995-9221-3a7395d99afc",
   "metadata": {},
   "source": [
    "##### Helper Functions\n",
    "* _get_data: get data from alpha vantage\n",
    "* _get_label_sentiment: converts scores to numbers"
   ]
  },
  {
   "cell_type": "code",
   "execution_count": 4,
   "id": "e39698dc-5b64-4726-a832-0d23b3406806",
   "metadata": {},
   "outputs": [],
   "source": [
    "def _get_data(symbols,time_from,time_to,api_key):\n",
    "    url = f\"https://www.alphavantage.co/query?function=NEWS_SENTIMENT&tickers={symbols}&time_from={time_from}&time_to={time_to}&limit=1000&apikey={api_key}\"\n",
    "    r = requests.get(url)\n",
    "    data = r.json()\n",
    "    return data\n",
    "\n",
    "def _get_label_sentiment(x):\n",
    "    if x <= -0.35:\n",
    "        return 'Bearish','Bearish'\n",
    "    elif -0.35 < x <= -0.15:\n",
    "        return 'Somewhat-Bearish','Bearish'\n",
    "    elif -0.15 < x < 0.15:\n",
    "        return 'Neutral','Neutral'\n",
    "    elif 0.15 <= x < 0.35:\n",
    "        return 'Somewhat_Bullish','Bullish'\n",
    "    else:  # x >= 0.35\n",
    "        return 'Bullish','Bullish'"
   ]
  },
  {
   "cell_type": "markdown",
   "id": "ca488563-555f-43a9-a4cf-82bf42d04b6d",
   "metadata": {},
   "source": [
    "### Get dataset going backward in time\n",
    "* Initially set time_to = '' meaning till current time\n",
    "* Then set it to earliest time after each api call\n",
    "* Set a time_from very far into past\n",
    "* Eventually this won't work when we are done with all the data..."
   ]
  },
  {
   "cell_type": "code",
   "execution_count": 12,
   "id": "8966798f",
   "metadata": {},
   "outputs": [],
   "source": [
    "import time"
   ]
  },
  {
   "cell_type": "code",
   "execution_count": 13,
   "id": "77172449",
   "metadata": {},
   "outputs": [],
   "source": [
    "current_time = time.localtime()\n",
    "\n",
    "# Format the time as YYYYMMDDTHHMM\n",
    "formatted_time = time.strftime(\"%Y%m%dT%H%M\", current_time)"
   ]
  },
  {
   "cell_type": "code",
   "execution_count": 14,
   "id": "05ccd2e8-1ae1-44c9-b703-33df207233e9",
   "metadata": {},
   "outputs": [],
   "source": [
    "def get_dataset(time_from=\"20030410T0130\",\n",
    "                time_to= formatted_time,\n",
    "                MAX_API_CALLS_PER_DAY = 25, # Free tier only allows 25 API calls per day\n",
    "                MAX_API_CALLS_PER_MIN = 5 # Free tier only allows 5 api calls per minute\n",
    "               ):\n",
    "    data_list=[]\n",
    "    for i in range(1,MAX_API_CALLS_PER_DAY+1): \n",
    "        if i%5==0: \n",
    "            time.sleep(60)\n",
    "        \n",
    "        data=_get_data('TSLA',time_from,time_to,api_key)\n",
    "        if 'feed' not in data:break\n",
    "        if len(data['feed'])==0: break\n",
    "        data_list.append(data)\n",
    "        time_to=data['feed'][-1]['time_published'][:-2] # Take all the way up to last 2 since api only takes minute level granularity\n",
    "    df=pd.concat([pd.DataFrame(data['feed']) for data in data_list])\n",
    "    # Extract TSLA specific relevance (we didn't use it in video)\n",
    "    df['ticker_relevance_TSLA']=df['ticker_sentiment'].apply(lambda l:[el for el in l if el['ticker']=='TSLA'][0]['relevance_score']).astype(float)\n",
    "    # Extract TSLA specific sentiment\n",
    "    df['ticker_sentiment_TSLA']=df['ticker_sentiment'].apply(lambda l:[el for el in l if el['ticker']=='TSLA'][0]['ticker_sentiment_score']).astype(float)\n",
    "    # Only take tickers with TSLA in headline \n",
    "    df=df[df.title.str.contains('tsla|tesla',case=False)]\n",
    "    # Extract # of tickers\n",
    "    df['num_tickers']=df.ticker_sentiment.apply(lambda l:len(l))\n",
    "    # Only take when # of tickers = 1\n",
    "    df = df[df.num_tickers==1]\n",
    "    # Applying the function and creating two new columns\n",
    "    df[['detailed_original_label','label']] = df.apply(lambda row: _get_label_sentiment(row['ticker_sentiment_TSLA']), axis=1, result_type='expand')\n",
    "    # Drop duplicates..\n",
    "    df.drop_duplicates(subset=['summary'],inplace=True,keep='first')\n",
    "    # Set index to time published\n",
    "    df.set_index('time_published',inplace=True)\n",
    "    # Sort by time published\n",
    "    df.sort_index(inplace=True)\n",
    "    return df\n",
    "    \n",
    "        "
   ]
  },
  {
   "cell_type": "markdown",
   "id": "99734d07-98ee-4dbf-a2cf-a738cc80f569",
   "metadata": {},
   "source": [
    "### Run this to get dataset and save to CSV file\n",
    "* Takes 5 mins LOL!\n",
    "* You can stop here after saving the CSV and can run the colab notebook..."
   ]
  },
  {
   "cell_type": "code",
   "execution_count": 21,
   "id": "8b889865-e4e9-4f17-a5ce-25dfe5018678",
   "metadata": {},
   "outputs": [
    {
     "ename": "ValueError",
     "evalue": "No objects to concatenate",
     "output_type": "error",
     "traceback": [
      "\u001b[1;31m---------------------------------------------------------------------------\u001b[0m",
      "\u001b[1;31mValueError\u001b[0m                                Traceback (most recent call last)",
      "Cell \u001b[1;32mIn[21], line 1\u001b[0m\n\u001b[1;32m----> 1\u001b[0m df \u001b[38;5;241m=\u001b[39m get_dataset(time_to\u001b[38;5;241m=\u001b[39m\u001b[38;5;124m'\u001b[39m\u001b[38;5;124m'\u001b[39m)\n\u001b[0;32m      2\u001b[0m df\u001b[38;5;241m.\u001b[39mto_csv(\u001b[38;5;124m'\u001b[39m\u001b[38;5;124mtsla_sentiment.csv\u001b[39m\u001b[38;5;124m'\u001b[39m)\n",
      "Cell \u001b[1;32mIn[14], line 16\u001b[0m, in \u001b[0;36mget_dataset\u001b[1;34m(time_from, time_to, MAX_API_CALLS_PER_DAY, MAX_API_CALLS_PER_MIN)\u001b[0m\n\u001b[0;32m     14\u001b[0m     data_list\u001b[38;5;241m.\u001b[39mappend(data)\n\u001b[0;32m     15\u001b[0m     time_to\u001b[38;5;241m=\u001b[39mdata[\u001b[38;5;124m'\u001b[39m\u001b[38;5;124mfeed\u001b[39m\u001b[38;5;124m'\u001b[39m][\u001b[38;5;241m-\u001b[39m\u001b[38;5;241m1\u001b[39m][\u001b[38;5;124m'\u001b[39m\u001b[38;5;124mtime_published\u001b[39m\u001b[38;5;124m'\u001b[39m][:\u001b[38;5;241m-\u001b[39m\u001b[38;5;241m2\u001b[39m] \u001b[38;5;66;03m# Take all the way up to last 2 since api only takes minute level granularity\u001b[39;00m\n\u001b[1;32m---> 16\u001b[0m df\u001b[38;5;241m=\u001b[39mpd\u001b[38;5;241m.\u001b[39mconcat([pd\u001b[38;5;241m.\u001b[39mDataFrame(data[\u001b[38;5;124m'\u001b[39m\u001b[38;5;124mfeed\u001b[39m\u001b[38;5;124m'\u001b[39m]) \u001b[38;5;28;01mfor\u001b[39;00m data \u001b[38;5;129;01min\u001b[39;00m data_list])\n\u001b[0;32m     17\u001b[0m \u001b[38;5;66;03m# Extract TSLA specific relevance (we didn't use it in video)\u001b[39;00m\n\u001b[0;32m     18\u001b[0m df[\u001b[38;5;124m'\u001b[39m\u001b[38;5;124mticker_relevance_TSLA\u001b[39m\u001b[38;5;124m'\u001b[39m]\u001b[38;5;241m=\u001b[39mdf[\u001b[38;5;124m'\u001b[39m\u001b[38;5;124mticker_sentiment\u001b[39m\u001b[38;5;124m'\u001b[39m]\u001b[38;5;241m.\u001b[39mapply(\u001b[38;5;28;01mlambda\u001b[39;00m l:[el \u001b[38;5;28;01mfor\u001b[39;00m el \u001b[38;5;129;01min\u001b[39;00m l \u001b[38;5;28;01mif\u001b[39;00m el[\u001b[38;5;124m'\u001b[39m\u001b[38;5;124mticker\u001b[39m\u001b[38;5;124m'\u001b[39m]\u001b[38;5;241m==\u001b[39m\u001b[38;5;124m'\u001b[39m\u001b[38;5;124mTSLA\u001b[39m\u001b[38;5;124m'\u001b[39m][\u001b[38;5;241m0\u001b[39m][\u001b[38;5;124m'\u001b[39m\u001b[38;5;124mrelevance_score\u001b[39m\u001b[38;5;124m'\u001b[39m])\u001b[38;5;241m.\u001b[39mastype(\u001b[38;5;28mfloat\u001b[39m)\n",
      "File \u001b[1;32mc:\\ProgramData\\anaconda3\\Lib\\site-packages\\pandas\\core\\reshape\\concat.py:380\u001b[0m, in \u001b[0;36mconcat\u001b[1;34m(objs, axis, join, ignore_index, keys, levels, names, verify_integrity, sort, copy)\u001b[0m\n\u001b[0;32m    377\u001b[0m \u001b[38;5;28;01melif\u001b[39;00m copy \u001b[38;5;129;01mand\u001b[39;00m using_copy_on_write():\n\u001b[0;32m    378\u001b[0m     copy \u001b[38;5;241m=\u001b[39m \u001b[38;5;28;01mFalse\u001b[39;00m\n\u001b[1;32m--> 380\u001b[0m op \u001b[38;5;241m=\u001b[39m _Concatenator(\n\u001b[0;32m    381\u001b[0m     objs,\n\u001b[0;32m    382\u001b[0m     axis\u001b[38;5;241m=\u001b[39maxis,\n\u001b[0;32m    383\u001b[0m     ignore_index\u001b[38;5;241m=\u001b[39mignore_index,\n\u001b[0;32m    384\u001b[0m     join\u001b[38;5;241m=\u001b[39mjoin,\n\u001b[0;32m    385\u001b[0m     keys\u001b[38;5;241m=\u001b[39mkeys,\n\u001b[0;32m    386\u001b[0m     levels\u001b[38;5;241m=\u001b[39mlevels,\n\u001b[0;32m    387\u001b[0m     names\u001b[38;5;241m=\u001b[39mnames,\n\u001b[0;32m    388\u001b[0m     verify_integrity\u001b[38;5;241m=\u001b[39mverify_integrity,\n\u001b[0;32m    389\u001b[0m     copy\u001b[38;5;241m=\u001b[39mcopy,\n\u001b[0;32m    390\u001b[0m     sort\u001b[38;5;241m=\u001b[39msort,\n\u001b[0;32m    391\u001b[0m )\n\u001b[0;32m    393\u001b[0m \u001b[38;5;28;01mreturn\u001b[39;00m op\u001b[38;5;241m.\u001b[39mget_result()\n",
      "File \u001b[1;32mc:\\ProgramData\\anaconda3\\Lib\\site-packages\\pandas\\core\\reshape\\concat.py:443\u001b[0m, in \u001b[0;36m_Concatenator.__init__\u001b[1;34m(self, objs, axis, join, keys, levels, names, ignore_index, verify_integrity, copy, sort)\u001b[0m\n\u001b[0;32m    440\u001b[0m \u001b[38;5;28mself\u001b[39m\u001b[38;5;241m.\u001b[39mverify_integrity \u001b[38;5;241m=\u001b[39m verify_integrity\n\u001b[0;32m    441\u001b[0m \u001b[38;5;28mself\u001b[39m\u001b[38;5;241m.\u001b[39mcopy \u001b[38;5;241m=\u001b[39m copy\n\u001b[1;32m--> 443\u001b[0m objs, keys \u001b[38;5;241m=\u001b[39m \u001b[38;5;28mself\u001b[39m\u001b[38;5;241m.\u001b[39m_clean_keys_and_objs(objs, keys)\n\u001b[0;32m    445\u001b[0m \u001b[38;5;66;03m# figure out what our result ndim is going to be\u001b[39;00m\n\u001b[0;32m    446\u001b[0m ndims \u001b[38;5;241m=\u001b[39m \u001b[38;5;28mself\u001b[39m\u001b[38;5;241m.\u001b[39m_get_ndims(objs)\n",
      "File \u001b[1;32mc:\\ProgramData\\anaconda3\\Lib\\site-packages\\pandas\\core\\reshape\\concat.py:505\u001b[0m, in \u001b[0;36m_Concatenator._clean_keys_and_objs\u001b[1;34m(self, objs, keys)\u001b[0m\n\u001b[0;32m    502\u001b[0m     objs_list \u001b[38;5;241m=\u001b[39m \u001b[38;5;28mlist\u001b[39m(objs)\n\u001b[0;32m    504\u001b[0m \u001b[38;5;28;01mif\u001b[39;00m \u001b[38;5;28mlen\u001b[39m(objs_list) \u001b[38;5;241m==\u001b[39m \u001b[38;5;241m0\u001b[39m:\n\u001b[1;32m--> 505\u001b[0m     \u001b[38;5;28;01mraise\u001b[39;00m \u001b[38;5;167;01mValueError\u001b[39;00m(\u001b[38;5;124m\"\u001b[39m\u001b[38;5;124mNo objects to concatenate\u001b[39m\u001b[38;5;124m\"\u001b[39m)\n\u001b[0;32m    507\u001b[0m \u001b[38;5;28;01mif\u001b[39;00m keys \u001b[38;5;129;01mis\u001b[39;00m \u001b[38;5;28;01mNone\u001b[39;00m:\n\u001b[0;32m    508\u001b[0m     objs_list \u001b[38;5;241m=\u001b[39m \u001b[38;5;28mlist\u001b[39m(com\u001b[38;5;241m.\u001b[39mnot_none(\u001b[38;5;241m*\u001b[39mobjs_list))\n",
      "\u001b[1;31mValueError\u001b[0m: No objects to concatenate"
     ]
    }
   ],
   "source": [
    "df = get_dataset(time_to='')\n",
    "df.to_csv('tsla_sentiment.csv')"
   ]
  },
  {
   "cell_type": "code",
   "execution_count": 25,
   "id": "39151e23-0bff-47bb-a09c-17e54a80cbf2",
   "metadata": {},
   "outputs": [
    {
     "data": {
      "text/html": [
       "<div>\n",
       "<style scoped>\n",
       "    .dataframe tbody tr th:only-of-type {\n",
       "        vertical-align: middle;\n",
       "    }\n",
       "\n",
       "    .dataframe tbody tr th {\n",
       "        vertical-align: top;\n",
       "    }\n",
       "\n",
       "    .dataframe thead th {\n",
       "        text-align: right;\n",
       "    }\n",
       "</style>\n",
       "<table border=\"1\" class=\"dataframe\">\n",
       "  <thead>\n",
       "    <tr style=\"text-align: right;\">\n",
       "      <th></th>\n",
       "      <th>title</th>\n",
       "      <th>url</th>\n",
       "      <th>authors</th>\n",
       "      <th>summary</th>\n",
       "      <th>banner_image</th>\n",
       "      <th>source</th>\n",
       "      <th>category_within_source</th>\n",
       "      <th>source_domain</th>\n",
       "      <th>topics</th>\n",
       "      <th>overall_sentiment_score</th>\n",
       "      <th>overall_sentiment_label</th>\n",
       "      <th>ticker_sentiment</th>\n",
       "      <th>ticker_relevance_TSLA</th>\n",
       "      <th>ticker_sentiment_TSLA</th>\n",
       "      <th>num_tickers</th>\n",
       "      <th>detailed_original_label</th>\n",
       "      <th>label</th>\n",
       "    </tr>\n",
       "    <tr>\n",
       "      <th>time_published</th>\n",
       "      <th></th>\n",
       "      <th></th>\n",
       "      <th></th>\n",
       "      <th></th>\n",
       "      <th></th>\n",
       "      <th></th>\n",
       "      <th></th>\n",
       "      <th></th>\n",
       "      <th></th>\n",
       "      <th></th>\n",
       "      <th></th>\n",
       "      <th></th>\n",
       "      <th></th>\n",
       "      <th></th>\n",
       "      <th></th>\n",
       "      <th></th>\n",
       "      <th></th>\n",
       "    </tr>\n",
       "  </thead>\n",
       "  <tbody>\n",
       "    <tr>\n",
       "      <th>20231106T192159</th>\n",
       "      <td>'Tesla Is Back': Jim Cramer Expects Stock Rall...</td>\n",
       "      <td>https://www.benzinga.com/trading-ideas/long-id...</td>\n",
       "      <td>['Adam Eckert']</td>\n",
       "      <td>Jim Cramer says Tesla Inc TSLA is back after t...</td>\n",
       "      <td>https://cdn.benzinga.com/files/images/story/20...</td>\n",
       "      <td>Benzinga</td>\n",
       "      <td>General</td>\n",
       "      <td>www.benzinga.com</td>\n",
       "      <td>[{'topic': 'Financial Markets', 'relevance_sco...</td>\n",
       "      <td>0.046212</td>\n",
       "      <td>Neutral</td>\n",
       "      <td>[{'ticker': 'TSLA', 'relevance_score': '0.9122...</td>\n",
       "      <td>0.912237</td>\n",
       "      <td>0.123216</td>\n",
       "      <td>1</td>\n",
       "      <td>Neutral</td>\n",
       "      <td>Neutral</td>\n",
       "    </tr>\n",
       "    <tr>\n",
       "      <th>20231107T065956</th>\n",
       "      <td>India Fast-Tracks Approvals To Welcome Elon Mu...</td>\n",
       "      <td>https://www.benzinga.com/news/23/11/35636075/i...</td>\n",
       "      <td>['Shomik Sen Bhattacharjee']</td>\n",
       "      <td>This story was first published on the Benzinga...</td>\n",
       "      <td>https://cdn.benzinga.com/files/images/story/20...</td>\n",
       "      <td>Benzinga</td>\n",
       "      <td>News</td>\n",
       "      <td>www.benzinga.com</td>\n",
       "      <td>[{'topic': 'Financial Markets', 'relevance_sco...</td>\n",
       "      <td>0.199924</td>\n",
       "      <td>Somewhat-Bullish</td>\n",
       "      <td>[{'ticker': 'TSLA', 'relevance_score': '0.6919...</td>\n",
       "      <td>0.691995</td>\n",
       "      <td>0.333594</td>\n",
       "      <td>1</td>\n",
       "      <td>Somewhat_Bullish</td>\n",
       "      <td>Bullish</td>\n",
       "    </tr>\n",
       "    <tr>\n",
       "      <th>20231107T085136</th>\n",
       "      <td>Tesla Model Y To Get Pricier In China: Report ...</td>\n",
       "      <td>https://www.benzinga.com/news/23/11/35636935/t...</td>\n",
       "      <td>['Anan Ashraf']</td>\n",
       "      <td>EV giant Tesla Inc TSLA is reportedly gearing ...</td>\n",
       "      <td>https://cdn.benzinga.com/files/images/story/20...</td>\n",
       "      <td>Benzinga</td>\n",
       "      <td>News</td>\n",
       "      <td>www.benzinga.com</td>\n",
       "      <td>[{'topic': 'Manufacturing', 'relevance_score':...</td>\n",
       "      <td>0.040358</td>\n",
       "      <td>Neutral</td>\n",
       "      <td>[{'ticker': 'TSLA', 'relevance_score': '0.5611...</td>\n",
       "      <td>0.561184</td>\n",
       "      <td>-0.044547</td>\n",
       "      <td>1</td>\n",
       "      <td>Neutral</td>\n",
       "      <td>Neutral</td>\n",
       "    </tr>\n",
       "    <tr>\n",
       "      <th>20231107T122000</th>\n",
       "      <td>Port Workers Join Tesla Strike In Sweden</td>\n",
       "      <td>https://www.barrons.com/news/port-workers-join...</td>\n",
       "      <td>['AFP - Agence France Presse']</td>\n",
       "      <td>Workers at four Swedish ports blocked the load...</td>\n",
       "      <td>https://www.barrons.com/asset/external-media/a...</td>\n",
       "      <td>Barrons</td>\n",
       "      <td>NaN</td>\n",
       "      <td>www.barrons.com</td>\n",
       "      <td>[{'topic': 'Manufacturing', 'relevance_score':...</td>\n",
       "      <td>0.009616</td>\n",
       "      <td>Neutral</td>\n",
       "      <td>[{'ticker': 'TSLA', 'relevance_score': '0.8708...</td>\n",
       "      <td>0.870862</td>\n",
       "      <td>-0.083327</td>\n",
       "      <td>1</td>\n",
       "      <td>Neutral</td>\n",
       "      <td>Neutral</td>\n",
       "    </tr>\n",
       "    <tr>\n",
       "      <th>20231107T224331</th>\n",
       "      <td>China Plans To 'Reshape The World' By Mass Pro...</td>\n",
       "      <td>https://www.benzinga.com/news/23/11/35656672/c...</td>\n",
       "      <td>['Adam Eckert']</td>\n",
       "      <td>China unveiled plans to mass-produce humanoid ...</td>\n",
       "      <td>https://cdn.benzinga.com/files/images/story/20...</td>\n",
       "      <td>Benzinga</td>\n",
       "      <td>General</td>\n",
       "      <td>www.benzinga.com</td>\n",
       "      <td>[{'topic': 'Manufacturing', 'relevance_score':...</td>\n",
       "      <td>0.329900</td>\n",
       "      <td>Somewhat-Bullish</td>\n",
       "      <td>[{'ticker': 'TSLA', 'relevance_score': '0.4926...</td>\n",
       "      <td>0.492659</td>\n",
       "      <td>0.457138</td>\n",
       "      <td>1</td>\n",
       "      <td>Bullish</td>\n",
       "      <td>Bullish</td>\n",
       "    </tr>\n",
       "    <tr>\n",
       "      <th>...</th>\n",
       "      <td>...</td>\n",
       "      <td>...</td>\n",
       "      <td>...</td>\n",
       "      <td>...</td>\n",
       "      <td>...</td>\n",
       "      <td>...</td>\n",
       "      <td>...</td>\n",
       "      <td>...</td>\n",
       "      <td>...</td>\n",
       "      <td>...</td>\n",
       "      <td>...</td>\n",
       "      <td>...</td>\n",
       "      <td>...</td>\n",
       "      <td>...</td>\n",
       "      <td>...</td>\n",
       "      <td>...</td>\n",
       "      <td>...</td>\n",
       "    </tr>\n",
       "    <tr>\n",
       "      <th>20250114T055924</th>\n",
       "      <td>Biden Admin Brushes Off Tesla's $100M Big-Rig ...</td>\n",
       "      <td>https://www.benzinga.com/25/01/42966137/biden-...</td>\n",
       "      <td>['Anan Ashraf']</td>\n",
       "      <td>Biden administration reportedly brushed off Te...</td>\n",
       "      <td>https://cdn.benzinga.com/files/images/story/20...</td>\n",
       "      <td>Benzinga</td>\n",
       "      <td>News</td>\n",
       "      <td>www.benzinga.com</td>\n",
       "      <td>[{'topic': 'Manufacturing', 'relevance_score':...</td>\n",
       "      <td>0.014141</td>\n",
       "      <td>Neutral</td>\n",
       "      <td>[{'ticker': 'TSLA', 'relevance_score': '0.7290...</td>\n",
       "      <td>0.729067</td>\n",
       "      <td>-0.034485</td>\n",
       "      <td>1</td>\n",
       "      <td>Neutral</td>\n",
       "      <td>Neutral</td>\n",
       "    </tr>\n",
       "    <tr>\n",
       "      <th>20250114T085555</th>\n",
       "      <td>Audi's Deliveries Drop 12% In 2024: Tesla Take...</td>\n",
       "      <td>https://www.benzinga.com/tech/25/01/42967305/a...</td>\n",
       "      <td>['Anan Ashraf']</td>\n",
       "      <td>German automaker Audi delivered around 1.7 mil...</td>\n",
       "      <td>https://cdn.benzinga.com/files/images/story/20...</td>\n",
       "      <td>Benzinga</td>\n",
       "      <td>News</td>\n",
       "      <td>www.benzinga.com</td>\n",
       "      <td>[{'topic': 'Manufacturing', 'relevance_score':...</td>\n",
       "      <td>0.038965</td>\n",
       "      <td>Neutral</td>\n",
       "      <td>[{'ticker': 'TSLA', 'relevance_score': '0.4514...</td>\n",
       "      <td>0.451494</td>\n",
       "      <td>0.180245</td>\n",
       "      <td>1</td>\n",
       "      <td>Somewhat_Bullish</td>\n",
       "      <td>Bullish</td>\n",
       "    </tr>\n",
       "    <tr>\n",
       "      <th>20250114T173625</th>\n",
       "      <td>Tesla Model Y Refresh Gets 50,000 Reservations...</td>\n",
       "      <td>https://www.benzinga.com/news/global/25/01/429...</td>\n",
       "      <td>['Chris Katje']</td>\n",
       "      <td>Tesla recently announced the Model Y refresh i...</td>\n",
       "      <td>https://cdn.benzinga.com/files/images/story/20...</td>\n",
       "      <td>Benzinga</td>\n",
       "      <td>Trading</td>\n",
       "      <td>www.benzinga.com</td>\n",
       "      <td>[{'topic': 'Financial Markets', 'relevance_sco...</td>\n",
       "      <td>0.217568</td>\n",
       "      <td>Somewhat-Bullish</td>\n",
       "      <td>[{'ticker': 'TSLA', 'relevance_score': '0.8191...</td>\n",
       "      <td>0.819198</td>\n",
       "      <td>0.346723</td>\n",
       "      <td>1</td>\n",
       "      <td>Somewhat_Bullish</td>\n",
       "      <td>Bullish</td>\n",
       "    </tr>\n",
       "    <tr>\n",
       "      <th>20250114T224522</th>\n",
       "      <td>Tesla  ( TSLA )  Stock Falls Amid Market Uptic...</td>\n",
       "      <td>https://www.zacks.com/stock/news/2396864/tesla...</td>\n",
       "      <td>['Zacks Equity Research']</td>\n",
       "      <td>Tesla (TSLA) reachead $396.36 at the closing o...</td>\n",
       "      <td>https://staticx-tuner.zacks.com/images/default...</td>\n",
       "      <td>Zacks Commentary</td>\n",
       "      <td>NaN</td>\n",
       "      <td>www.zacks.com</td>\n",
       "      <td>[{'topic': 'Earnings', 'relevance_score': '0.9...</td>\n",
       "      <td>0.123939</td>\n",
       "      <td>Neutral</td>\n",
       "      <td>[{'ticker': 'TSLA', 'relevance_score': '0.6880...</td>\n",
       "      <td>0.688096</td>\n",
       "      <td>0.238901</td>\n",
       "      <td>1</td>\n",
       "      <td>Somewhat_Bullish</td>\n",
       "      <td>Bullish</td>\n",
       "    </tr>\n",
       "    <tr>\n",
       "      <th>20250115T021029</th>\n",
       "      <td>Elon Musk Sued By SEC For Allegedly Hiding Twi...</td>\n",
       "      <td>https://www.benzinga.com/25/01/42993322/elon-m...</td>\n",
       "      <td>['Ananya Gairola']</td>\n",
       "      <td>On Tuesday, the U.S. Securities and Exchange C...</td>\n",
       "      <td>https://cdn.benzinga.com/files/images/story/20...</td>\n",
       "      <td>Benzinga</td>\n",
       "      <td>News</td>\n",
       "      <td>www.benzinga.com</td>\n",
       "      <td>[{'topic': 'Mergers &amp; Acquisitions', 'relevanc...</td>\n",
       "      <td>0.038851</td>\n",
       "      <td>Neutral</td>\n",
       "      <td>[{'ticker': 'TSLA', 'relevance_score': '0.2084...</td>\n",
       "      <td>0.208464</td>\n",
       "      <td>0.109484</td>\n",
       "      <td>1</td>\n",
       "      <td>Neutral</td>\n",
       "      <td>Neutral</td>\n",
       "    </tr>\n",
       "  </tbody>\n",
       "</table>\n",
       "<p>2450 rows × 17 columns</p>\n",
       "</div>"
      ],
      "text/plain": [
       "                                                             title  \\\n",
       "time_published                                                       \n",
       "20231106T192159  'Tesla Is Back': Jim Cramer Expects Stock Rall...   \n",
       "20231107T065956  India Fast-Tracks Approvals To Welcome Elon Mu...   \n",
       "20231107T085136  Tesla Model Y To Get Pricier In China: Report ...   \n",
       "20231107T122000           Port Workers Join Tesla Strike In Sweden   \n",
       "20231107T224331  China Plans To 'Reshape The World' By Mass Pro...   \n",
       "...                                                            ...   \n",
       "20250114T055924  Biden Admin Brushes Off Tesla's $100M Big-Rig ...   \n",
       "20250114T085555  Audi's Deliveries Drop 12% In 2024: Tesla Take...   \n",
       "20250114T173625  Tesla Model Y Refresh Gets 50,000 Reservations...   \n",
       "20250114T224522  Tesla  ( TSLA )  Stock Falls Amid Market Uptic...   \n",
       "20250115T021029  Elon Musk Sued By SEC For Allegedly Hiding Twi...   \n",
       "\n",
       "                                                               url  \\\n",
       "time_published                                                       \n",
       "20231106T192159  https://www.benzinga.com/trading-ideas/long-id...   \n",
       "20231107T065956  https://www.benzinga.com/news/23/11/35636075/i...   \n",
       "20231107T085136  https://www.benzinga.com/news/23/11/35636935/t...   \n",
       "20231107T122000  https://www.barrons.com/news/port-workers-join...   \n",
       "20231107T224331  https://www.benzinga.com/news/23/11/35656672/c...   \n",
       "...                                                            ...   \n",
       "20250114T055924  https://www.benzinga.com/25/01/42966137/biden-...   \n",
       "20250114T085555  https://www.benzinga.com/tech/25/01/42967305/a...   \n",
       "20250114T173625  https://www.benzinga.com/news/global/25/01/429...   \n",
       "20250114T224522  https://www.zacks.com/stock/news/2396864/tesla...   \n",
       "20250115T021029  https://www.benzinga.com/25/01/42993322/elon-m...   \n",
       "\n",
       "                                        authors  \\\n",
       "time_published                                    \n",
       "20231106T192159                 ['Adam Eckert']   \n",
       "20231107T065956    ['Shomik Sen Bhattacharjee']   \n",
       "20231107T085136                 ['Anan Ashraf']   \n",
       "20231107T122000  ['AFP - Agence France Presse']   \n",
       "20231107T224331                 ['Adam Eckert']   \n",
       "...                                         ...   \n",
       "20250114T055924                 ['Anan Ashraf']   \n",
       "20250114T085555                 ['Anan Ashraf']   \n",
       "20250114T173625                 ['Chris Katje']   \n",
       "20250114T224522       ['Zacks Equity Research']   \n",
       "20250115T021029              ['Ananya Gairola']   \n",
       "\n",
       "                                                           summary  \\\n",
       "time_published                                                       \n",
       "20231106T192159  Jim Cramer says Tesla Inc TSLA is back after t...   \n",
       "20231107T065956  This story was first published on the Benzinga...   \n",
       "20231107T085136  EV giant Tesla Inc TSLA is reportedly gearing ...   \n",
       "20231107T122000  Workers at four Swedish ports blocked the load...   \n",
       "20231107T224331  China unveiled plans to mass-produce humanoid ...   \n",
       "...                                                            ...   \n",
       "20250114T055924  Biden administration reportedly brushed off Te...   \n",
       "20250114T085555  German automaker Audi delivered around 1.7 mil...   \n",
       "20250114T173625  Tesla recently announced the Model Y refresh i...   \n",
       "20250114T224522  Tesla (TSLA) reachead $396.36 at the closing o...   \n",
       "20250115T021029  On Tuesday, the U.S. Securities and Exchange C...   \n",
       "\n",
       "                                                      banner_image  \\\n",
       "time_published                                                       \n",
       "20231106T192159  https://cdn.benzinga.com/files/images/story/20...   \n",
       "20231107T065956  https://cdn.benzinga.com/files/images/story/20...   \n",
       "20231107T085136  https://cdn.benzinga.com/files/images/story/20...   \n",
       "20231107T122000  https://www.barrons.com/asset/external-media/a...   \n",
       "20231107T224331  https://cdn.benzinga.com/files/images/story/20...   \n",
       "...                                                            ...   \n",
       "20250114T055924  https://cdn.benzinga.com/files/images/story/20...   \n",
       "20250114T085555  https://cdn.benzinga.com/files/images/story/20...   \n",
       "20250114T173625  https://cdn.benzinga.com/files/images/story/20...   \n",
       "20250114T224522  https://staticx-tuner.zacks.com/images/default...   \n",
       "20250115T021029  https://cdn.benzinga.com/files/images/story/20...   \n",
       "\n",
       "                           source category_within_source     source_domain  \\\n",
       "time_published                                                               \n",
       "20231106T192159          Benzinga                General  www.benzinga.com   \n",
       "20231107T065956          Benzinga                   News  www.benzinga.com   \n",
       "20231107T085136          Benzinga                   News  www.benzinga.com   \n",
       "20231107T122000           Barrons                    NaN   www.barrons.com   \n",
       "20231107T224331          Benzinga                General  www.benzinga.com   \n",
       "...                           ...                    ...               ...   \n",
       "20250114T055924          Benzinga                   News  www.benzinga.com   \n",
       "20250114T085555          Benzinga                   News  www.benzinga.com   \n",
       "20250114T173625          Benzinga                Trading  www.benzinga.com   \n",
       "20250114T224522  Zacks Commentary                    NaN     www.zacks.com   \n",
       "20250115T021029          Benzinga                   News  www.benzinga.com   \n",
       "\n",
       "                                                            topics  \\\n",
       "time_published                                                       \n",
       "20231106T192159  [{'topic': 'Financial Markets', 'relevance_sco...   \n",
       "20231107T065956  [{'topic': 'Financial Markets', 'relevance_sco...   \n",
       "20231107T085136  [{'topic': 'Manufacturing', 'relevance_score':...   \n",
       "20231107T122000  [{'topic': 'Manufacturing', 'relevance_score':...   \n",
       "20231107T224331  [{'topic': 'Manufacturing', 'relevance_score':...   \n",
       "...                                                            ...   \n",
       "20250114T055924  [{'topic': 'Manufacturing', 'relevance_score':...   \n",
       "20250114T085555  [{'topic': 'Manufacturing', 'relevance_score':...   \n",
       "20250114T173625  [{'topic': 'Financial Markets', 'relevance_sco...   \n",
       "20250114T224522  [{'topic': 'Earnings', 'relevance_score': '0.9...   \n",
       "20250115T021029  [{'topic': 'Mergers & Acquisitions', 'relevanc...   \n",
       "\n",
       "                 overall_sentiment_score overall_sentiment_label  \\\n",
       "time_published                                                     \n",
       "20231106T192159                 0.046212                 Neutral   \n",
       "20231107T065956                 0.199924        Somewhat-Bullish   \n",
       "20231107T085136                 0.040358                 Neutral   \n",
       "20231107T122000                 0.009616                 Neutral   \n",
       "20231107T224331                 0.329900        Somewhat-Bullish   \n",
       "...                                  ...                     ...   \n",
       "20250114T055924                 0.014141                 Neutral   \n",
       "20250114T085555                 0.038965                 Neutral   \n",
       "20250114T173625                 0.217568        Somewhat-Bullish   \n",
       "20250114T224522                 0.123939                 Neutral   \n",
       "20250115T021029                 0.038851                 Neutral   \n",
       "\n",
       "                                                  ticker_sentiment  \\\n",
       "time_published                                                       \n",
       "20231106T192159  [{'ticker': 'TSLA', 'relevance_score': '0.9122...   \n",
       "20231107T065956  [{'ticker': 'TSLA', 'relevance_score': '0.6919...   \n",
       "20231107T085136  [{'ticker': 'TSLA', 'relevance_score': '0.5611...   \n",
       "20231107T122000  [{'ticker': 'TSLA', 'relevance_score': '0.8708...   \n",
       "20231107T224331  [{'ticker': 'TSLA', 'relevance_score': '0.4926...   \n",
       "...                                                            ...   \n",
       "20250114T055924  [{'ticker': 'TSLA', 'relevance_score': '0.7290...   \n",
       "20250114T085555  [{'ticker': 'TSLA', 'relevance_score': '0.4514...   \n",
       "20250114T173625  [{'ticker': 'TSLA', 'relevance_score': '0.8191...   \n",
       "20250114T224522  [{'ticker': 'TSLA', 'relevance_score': '0.6880...   \n",
       "20250115T021029  [{'ticker': 'TSLA', 'relevance_score': '0.2084...   \n",
       "\n",
       "                 ticker_relevance_TSLA  ticker_sentiment_TSLA  num_tickers  \\\n",
       "time_published                                                               \n",
       "20231106T192159               0.912237               0.123216            1   \n",
       "20231107T065956               0.691995               0.333594            1   \n",
       "20231107T085136               0.561184              -0.044547            1   \n",
       "20231107T122000               0.870862              -0.083327            1   \n",
       "20231107T224331               0.492659               0.457138            1   \n",
       "...                                ...                    ...          ...   \n",
       "20250114T055924               0.729067              -0.034485            1   \n",
       "20250114T085555               0.451494               0.180245            1   \n",
       "20250114T173625               0.819198               0.346723            1   \n",
       "20250114T224522               0.688096               0.238901            1   \n",
       "20250115T021029               0.208464               0.109484            1   \n",
       "\n",
       "                detailed_original_label    label  \n",
       "time_published                                    \n",
       "20231106T192159                 Neutral  Neutral  \n",
       "20231107T065956        Somewhat_Bullish  Bullish  \n",
       "20231107T085136                 Neutral  Neutral  \n",
       "20231107T122000                 Neutral  Neutral  \n",
       "20231107T224331                 Bullish  Bullish  \n",
       "...                                 ...      ...  \n",
       "20250114T055924                 Neutral  Neutral  \n",
       "20250114T085555        Somewhat_Bullish  Bullish  \n",
       "20250114T173625        Somewhat_Bullish  Bullish  \n",
       "20250114T224522        Somewhat_Bullish  Bullish  \n",
       "20250115T021029                 Neutral  Neutral  \n",
       "\n",
       "[2450 rows x 17 columns]"
      ]
     },
     "execution_count": 25,
     "metadata": {},
     "output_type": "execute_result"
    }
   ],
   "source": [
    "df"
   ]
  },
  {
   "cell_type": "markdown",
   "id": "f38ef993-0e0f-4b61-9459-dbf667794235",
   "metadata": {},
   "source": [
    "### If you want more data you can run this the next day starting at earliest publish date and going backwards in time.\n",
    "* Load dataset so far \n",
    "* Find earliest published time\n",
    "* Can give you duplicates when you are done with data. I didn't handle it in this code so drop duplicates maybe by URL,published_time,summary..."
   ]
  },
  {
   "cell_type": "code",
   "execution_count": 27,
   "id": "3eb4469c-dab4-49d6-9e1b-6a9a509da85b",
   "metadata": {},
   "outputs": [
    {
     "data": {
      "text/plain": [
       "'20231106T192159'"
      ]
     },
     "execution_count": 27,
     "metadata": {},
     "output_type": "execute_result"
    }
   ],
   "source": [
    "df = pd.read_csv('tsla_sentiment.csv',index_col='time_published').sort_index()\n",
    "earliest_time_published = df.index[0]\n",
    "earliest_time_published"
   ]
  },
  {
   "cell_type": "markdown",
   "id": "ce3167dc-6209-4b2d-966d-b4d4f6c0d668",
   "metadata": {},
   "source": [
    "#### Get more data"
   ]
  },
  {
   "cell_type": "code",
   "execution_count": 28,
   "id": "30c59a26-a72d-4b6c-a815-7afcaa6b47b7",
   "metadata": {},
   "outputs": [
    {
     "ename": "ValueError",
     "evalue": "No objects to concatenate",
     "output_type": "error",
     "traceback": [
      "\u001b[1;31m---------------------------------------------------------------------------\u001b[0m",
      "\u001b[1;31mValueError\u001b[0m                                Traceback (most recent call last)",
      "Cell \u001b[1;32mIn[28], line 1\u001b[0m\n\u001b[1;32m----> 1\u001b[0m df_new \u001b[38;5;241m=\u001b[39m get_dataset(time_to\u001b[38;5;241m=\u001b[39mearliest_time_published[:\u001b[38;5;241m-\u001b[39m\u001b[38;5;241m2\u001b[39m])\n",
      "Cell \u001b[1;32mIn[14], line 16\u001b[0m, in \u001b[0;36mget_dataset\u001b[1;34m(time_from, time_to, MAX_API_CALLS_PER_DAY, MAX_API_CALLS_PER_MIN)\u001b[0m\n\u001b[0;32m     14\u001b[0m     data_list\u001b[38;5;241m.\u001b[39mappend(data)\n\u001b[0;32m     15\u001b[0m     time_to\u001b[38;5;241m=\u001b[39mdata[\u001b[38;5;124m'\u001b[39m\u001b[38;5;124mfeed\u001b[39m\u001b[38;5;124m'\u001b[39m][\u001b[38;5;241m-\u001b[39m\u001b[38;5;241m1\u001b[39m][\u001b[38;5;124m'\u001b[39m\u001b[38;5;124mtime_published\u001b[39m\u001b[38;5;124m'\u001b[39m][:\u001b[38;5;241m-\u001b[39m\u001b[38;5;241m2\u001b[39m] \u001b[38;5;66;03m# Take all the way up to last 2 since api only takes minute level granularity\u001b[39;00m\n\u001b[1;32m---> 16\u001b[0m df\u001b[38;5;241m=\u001b[39mpd\u001b[38;5;241m.\u001b[39mconcat([pd\u001b[38;5;241m.\u001b[39mDataFrame(data[\u001b[38;5;124m'\u001b[39m\u001b[38;5;124mfeed\u001b[39m\u001b[38;5;124m'\u001b[39m]) \u001b[38;5;28;01mfor\u001b[39;00m data \u001b[38;5;129;01min\u001b[39;00m data_list])\n\u001b[0;32m     17\u001b[0m \u001b[38;5;66;03m# Extract TSLA specific relevance (we didn't use it in video)\u001b[39;00m\n\u001b[0;32m     18\u001b[0m df[\u001b[38;5;124m'\u001b[39m\u001b[38;5;124mticker_relevance_TSLA\u001b[39m\u001b[38;5;124m'\u001b[39m]\u001b[38;5;241m=\u001b[39mdf[\u001b[38;5;124m'\u001b[39m\u001b[38;5;124mticker_sentiment\u001b[39m\u001b[38;5;124m'\u001b[39m]\u001b[38;5;241m.\u001b[39mapply(\u001b[38;5;28;01mlambda\u001b[39;00m l:[el \u001b[38;5;28;01mfor\u001b[39;00m el \u001b[38;5;129;01min\u001b[39;00m l \u001b[38;5;28;01mif\u001b[39;00m el[\u001b[38;5;124m'\u001b[39m\u001b[38;5;124mticker\u001b[39m\u001b[38;5;124m'\u001b[39m]\u001b[38;5;241m==\u001b[39m\u001b[38;5;124m'\u001b[39m\u001b[38;5;124mTSLA\u001b[39m\u001b[38;5;124m'\u001b[39m][\u001b[38;5;241m0\u001b[39m][\u001b[38;5;124m'\u001b[39m\u001b[38;5;124mrelevance_score\u001b[39m\u001b[38;5;124m'\u001b[39m])\u001b[38;5;241m.\u001b[39mastype(\u001b[38;5;28mfloat\u001b[39m)\n",
      "File \u001b[1;32mc:\\ProgramData\\anaconda3\\Lib\\site-packages\\pandas\\core\\reshape\\concat.py:380\u001b[0m, in \u001b[0;36mconcat\u001b[1;34m(objs, axis, join, ignore_index, keys, levels, names, verify_integrity, sort, copy)\u001b[0m\n\u001b[0;32m    377\u001b[0m \u001b[38;5;28;01melif\u001b[39;00m copy \u001b[38;5;129;01mand\u001b[39;00m using_copy_on_write():\n\u001b[0;32m    378\u001b[0m     copy \u001b[38;5;241m=\u001b[39m \u001b[38;5;28;01mFalse\u001b[39;00m\n\u001b[1;32m--> 380\u001b[0m op \u001b[38;5;241m=\u001b[39m _Concatenator(\n\u001b[0;32m    381\u001b[0m     objs,\n\u001b[0;32m    382\u001b[0m     axis\u001b[38;5;241m=\u001b[39maxis,\n\u001b[0;32m    383\u001b[0m     ignore_index\u001b[38;5;241m=\u001b[39mignore_index,\n\u001b[0;32m    384\u001b[0m     join\u001b[38;5;241m=\u001b[39mjoin,\n\u001b[0;32m    385\u001b[0m     keys\u001b[38;5;241m=\u001b[39mkeys,\n\u001b[0;32m    386\u001b[0m     levels\u001b[38;5;241m=\u001b[39mlevels,\n\u001b[0;32m    387\u001b[0m     names\u001b[38;5;241m=\u001b[39mnames,\n\u001b[0;32m    388\u001b[0m     verify_integrity\u001b[38;5;241m=\u001b[39mverify_integrity,\n\u001b[0;32m    389\u001b[0m     copy\u001b[38;5;241m=\u001b[39mcopy,\n\u001b[0;32m    390\u001b[0m     sort\u001b[38;5;241m=\u001b[39msort,\n\u001b[0;32m    391\u001b[0m )\n\u001b[0;32m    393\u001b[0m \u001b[38;5;28;01mreturn\u001b[39;00m op\u001b[38;5;241m.\u001b[39mget_result()\n",
      "File \u001b[1;32mc:\\ProgramData\\anaconda3\\Lib\\site-packages\\pandas\\core\\reshape\\concat.py:443\u001b[0m, in \u001b[0;36m_Concatenator.__init__\u001b[1;34m(self, objs, axis, join, keys, levels, names, ignore_index, verify_integrity, copy, sort)\u001b[0m\n\u001b[0;32m    440\u001b[0m \u001b[38;5;28mself\u001b[39m\u001b[38;5;241m.\u001b[39mverify_integrity \u001b[38;5;241m=\u001b[39m verify_integrity\n\u001b[0;32m    441\u001b[0m \u001b[38;5;28mself\u001b[39m\u001b[38;5;241m.\u001b[39mcopy \u001b[38;5;241m=\u001b[39m copy\n\u001b[1;32m--> 443\u001b[0m objs, keys \u001b[38;5;241m=\u001b[39m \u001b[38;5;28mself\u001b[39m\u001b[38;5;241m.\u001b[39m_clean_keys_and_objs(objs, keys)\n\u001b[0;32m    445\u001b[0m \u001b[38;5;66;03m# figure out what our result ndim is going to be\u001b[39;00m\n\u001b[0;32m    446\u001b[0m ndims \u001b[38;5;241m=\u001b[39m \u001b[38;5;28mself\u001b[39m\u001b[38;5;241m.\u001b[39m_get_ndims(objs)\n",
      "File \u001b[1;32mc:\\ProgramData\\anaconda3\\Lib\\site-packages\\pandas\\core\\reshape\\concat.py:505\u001b[0m, in \u001b[0;36m_Concatenator._clean_keys_and_objs\u001b[1;34m(self, objs, keys)\u001b[0m\n\u001b[0;32m    502\u001b[0m     objs_list \u001b[38;5;241m=\u001b[39m \u001b[38;5;28mlist\u001b[39m(objs)\n\u001b[0;32m    504\u001b[0m \u001b[38;5;28;01mif\u001b[39;00m \u001b[38;5;28mlen\u001b[39m(objs_list) \u001b[38;5;241m==\u001b[39m \u001b[38;5;241m0\u001b[39m:\n\u001b[1;32m--> 505\u001b[0m     \u001b[38;5;28;01mraise\u001b[39;00m \u001b[38;5;167;01mValueError\u001b[39;00m(\u001b[38;5;124m\"\u001b[39m\u001b[38;5;124mNo objects to concatenate\u001b[39m\u001b[38;5;124m\"\u001b[39m)\n\u001b[0;32m    507\u001b[0m \u001b[38;5;28;01mif\u001b[39;00m keys \u001b[38;5;129;01mis\u001b[39;00m \u001b[38;5;28;01mNone\u001b[39;00m:\n\u001b[0;32m    508\u001b[0m     objs_list \u001b[38;5;241m=\u001b[39m \u001b[38;5;28mlist\u001b[39m(com\u001b[38;5;241m.\u001b[39mnot_none(\u001b[38;5;241m*\u001b[39mobjs_list))\n",
      "\u001b[1;31mValueError\u001b[0m: No objects to concatenate"
     ]
    }
   ],
   "source": [
    "df_new = get_dataset(time_to=earliest_time_published[:-2])"
   ]
  },
  {
   "cell_type": "markdown",
   "id": "3a5ac118-3f41-463d-912c-8c67e8287c72",
   "metadata": {},
   "source": [
    "### Combine the dataframes and save to a csv"
   ]
  },
  {
   "cell_type": "code",
   "execution_count": 31,
   "id": "a39b637f-19c0-47cc-98b5-aee5da822146",
   "metadata": {},
   "outputs": [],
   "source": [
    "# df = pd.concat([df_new,df])\n",
    "df.drop_duplicates(subset=['summary'],inplace=True,keep='first')\n",
    "df.to_csv(r'D:\\Downloads\\Datasets\\tsla_sentiment.csv')"
   ]
  },
  {
   "cell_type": "markdown",
   "id": "87a641ee-691b-4075-92fa-86b698c05a1a",
   "metadata": {},
   "source": [
    "### When we run out of dates or want to add new articles we don't have we can now go forward in time from latest published time. WE can run this like every day or every few days and we should have mostly everything\n",
    "* Find latest time\n",
    "* We take nearest minute forward not backwards as we did when going backwards in time\n",
    "* We set the time_from to this..."
   ]
  },
  {
   "cell_type": "code",
   "execution_count": null,
   "id": "29e05636-dbd0-44ee-af01-4bc315250f18",
   "metadata": {},
   "outputs": [],
   "source": [
    "df = pd.read_csv('tsla_sentiment.csv',index_col='time_published').sort_index()\n",
    "\n",
    "latest_time_published = df.index[-1]\n",
    "\n",
    "# Parse the timestamp string into a datetime object\n",
    "dt = datetime.datetime.strptime(latest_time_published[:-2], '%Y%m%dT%H%M')\n",
    "\n",
    "# Round the datetime to the nearest second\n",
    "rounded_dt = dt + datetime.timedelta(minutes=1)\n",
    "\n",
    "# Format the rounded datetime back to the string format\n",
    "next_timestamp = rounded_dt.strftime('%Y%m%dT%H%M')\n",
    " "
   ]
  },
  {
   "cell_type": "markdown",
   "id": "5b2f7a01-7c5e-456f-b593-dc5051400e13",
   "metadata": {},
   "source": [
    "### Combine the dataframes and save to a csv"
   ]
  },
  {
   "cell_type": "code",
   "execution_count": null,
   "id": "ba1ade7e-d657-4e76-968a-86f6f54aff16",
   "metadata": {},
   "outputs": [],
   "source": [
    "df_new = get_dataset(time_from=next_timestamp,time_to='')"
   ]
  },
  {
   "cell_type": "markdown",
   "id": "d72cfe53-c146-46f1-bfc9-6659a343ff32",
   "metadata": {},
   "source": [
    "### Combine the dataframes and save to a csv"
   ]
  },
  {
   "cell_type": "code",
   "execution_count": null,
   "id": "dc334416-2f20-4959-96a9-9a3b9fff2338",
   "metadata": {},
   "outputs": [],
   "source": [
    "df=pd.concat([df,df_new])\n",
    "df.drop_duplicates(subset=['summary'],inplace=True,keep='first')\n",
    "df.to_csv('tsla_sentiment.csv')"
   ]
  },
  {
   "cell_type": "markdown",
   "id": "87e36875-3a8a-42a5-8c17-aa8f7995cebb",
   "metadata": {},
   "source": [
    "### Explanation"
   ]
  },
  {
   "cell_type": "code",
   "execution_count": 36,
   "id": "dd361557-b3e5-45da-98fb-21d4c6e6cb43",
   "metadata": {},
   "outputs": [],
   "source": [
    "data=_get_data('TSLA',\"20030410T0130\",\"\",api_key)"
   ]
  },
  {
   "cell_type": "code",
   "execution_count": 38,
   "id": "44e510c4-5ae4-4534-bf9c-60bb8bea01d1",
   "metadata": {},
   "outputs": [
    {
     "data": {
      "text/plain": [
       "dict_keys(['items', 'sentiment_score_definition', 'relevance_score_definition', 'feed'])"
      ]
     },
     "execution_count": 38,
     "metadata": {},
     "output_type": "execute_result"
    }
   ],
   "source": [
    "data.keys()"
   ]
  },
  {
   "cell_type": "code",
   "execution_count": 39,
   "id": "07333587-54fc-429d-a5b4-a222315af500",
   "metadata": {},
   "outputs": [
    {
     "data": {
      "text/plain": [
       "'692'"
      ]
     },
     "execution_count": 39,
     "metadata": {},
     "output_type": "execute_result"
    }
   ],
   "source": [
    "data['items']"
   ]
  },
  {
   "cell_type": "code",
   "execution_count": 40,
   "id": "62b05aad-9afc-4da8-87a9-6176c6f377e6",
   "metadata": {},
   "outputs": [
    {
     "data": {
      "text/plain": [
       "'x <= -0.35: Bearish; -0.35 < x <= -0.15: Somewhat-Bearish; -0.15 < x < 0.15: Neutral; 0.15 <= x < 0.35: Somewhat_Bullish; x >= 0.35: Bullish'"
      ]
     },
     "execution_count": 40,
     "metadata": {},
     "output_type": "execute_result"
    }
   ],
   "source": [
    "data['sentiment_score_definition']"
   ]
  },
  {
   "cell_type": "code",
   "execution_count": 41,
   "id": "ea9de4b3-46c4-411f-97b4-a5e76215ad2a",
   "metadata": {},
   "outputs": [
    {
     "data": {
      "text/plain": [
       "'0 < x <= 1, with a higher score indicating higher relevance.'"
      ]
     },
     "execution_count": 41,
     "metadata": {},
     "output_type": "execute_result"
    }
   ],
   "source": [
    "data['relevance_score_definition']"
   ]
  },
  {
   "cell_type": "code",
   "execution_count": 44,
   "id": "9ab9d5d9-d5d4-41c7-8c98-502c8f7881d7",
   "metadata": {},
   "outputs": [],
   "source": [
    "df=pd.DataFrame(data['feed'])"
   ]
  },
  {
   "cell_type": "code",
   "execution_count": 47,
   "id": "b8c9d99b-2d0e-47c7-aea9-cb33bad96835",
   "metadata": {},
   "outputs": [
    {
     "data": {
      "text/plain": [
       "[{'ticker': 'TSLA',\n",
       "  'relevance_score': '0.055236',\n",
       "  'ticker_sentiment_score': '-0.023999',\n",
       "  'ticker_sentiment_label': 'Neutral'},\n",
       " {'ticker': 'CRYPTO:BTC',\n",
       "  'relevance_score': '0.164656',\n",
       "  'ticker_sentiment_score': '-0.0489',\n",
       "  'ticker_sentiment_label': 'Neutral'},\n",
       " {'ticker': 'CRYPTO:DOGE',\n",
       "  'relevance_score': '0.110209',\n",
       "  'ticker_sentiment_score': '-0.026718',\n",
       "  'ticker_sentiment_label': 'Neutral'},\n",
       " {'ticker': 'CRYPTO:SOL',\n",
       "  'relevance_score': '0.055236',\n",
       "  'ticker_sentiment_score': '0.215945',\n",
       "  'ticker_sentiment_label': 'Somewhat-Bullish'}]"
      ]
     },
     "execution_count": 47,
     "metadata": {},
     "output_type": "execute_result"
    }
   ],
   "source": [
    "df['ticker_sentiment'].iloc[0]"
   ]
  }
 ],
 "metadata": {
  "kernelspec": {
   "display_name": "base",
   "language": "python",
   "name": "python3"
  },
  "language_info": {
   "codemirror_mode": {
    "name": "ipython",
    "version": 3
   },
   "file_extension": ".py",
   "mimetype": "text/x-python",
   "name": "python",
   "nbconvert_exporter": "python",
   "pygments_lexer": "ipython3",
   "version": "3.11.7"
  }
 },
 "nbformat": 4,
 "nbformat_minor": 5
}
